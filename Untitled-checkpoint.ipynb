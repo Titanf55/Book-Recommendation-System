{
 "cells": [
  {
   "cell_type": "code",
   "execution_count": 2,
   "id": "4259aff9-2a91-41c5-b36a-b869273e4f4d",
   "metadata": {},
   "outputs": [],
   "source": [
    "import pandas as pd\n",
    "df = pd.read_csv(r'C:\\Users\\PC\\Desktop\\dataset\\data.csv') "
   ]
  },
  {
   "cell_type": "code",
   "execution_count": 4,
   "id": "40a6b20d-1740-480d-8cdc-d5ea8146c7e0",
   "metadata": {},
   "outputs": [
    {
     "data": {
      "text/html": [
       "<div>\n",
       "<style scoped>\n",
       "    .dataframe tbody tr th:only-of-type {\n",
       "        vertical-align: middle;\n",
       "    }\n",
       "\n",
       "    .dataframe tbody tr th {\n",
       "        vertical-align: top;\n",
       "    }\n",
       "\n",
       "    .dataframe thead th {\n",
       "        text-align: right;\n",
       "    }\n",
       "</style>\n",
       "<table border=\"1\" class=\"dataframe\">\n",
       "  <thead>\n",
       "    <tr style=\"text-align: right;\">\n",
       "      <th></th>\n",
       "      <th>isbn13</th>\n",
       "      <th>isbn10</th>\n",
       "      <th>title</th>\n",
       "      <th>subtitle</th>\n",
       "      <th>authors</th>\n",
       "      <th>categories</th>\n",
       "      <th>thumbnail</th>\n",
       "      <th>description</th>\n",
       "      <th>published_year</th>\n",
       "      <th>average_rating</th>\n",
       "      <th>num_pages</th>\n",
       "      <th>ratings_count</th>\n",
       "    </tr>\n",
       "  </thead>\n",
       "  <tbody>\n",
       "    <tr>\n",
       "      <th>0</th>\n",
       "      <td>9780002005883</td>\n",
       "      <td>0002005883</td>\n",
       "      <td>Gilead</td>\n",
       "      <td>NaN</td>\n",
       "      <td>Marilynne Robinson</td>\n",
       "      <td>Fiction</td>\n",
       "      <td>http://books.google.com/books/content?id=KQZCP...</td>\n",
       "      <td>A NOVEL THAT READERS and critics have been eag...</td>\n",
       "      <td>2004.0</td>\n",
       "      <td>3.85</td>\n",
       "      <td>247.0</td>\n",
       "      <td>361.0</td>\n",
       "    </tr>\n",
       "    <tr>\n",
       "      <th>1</th>\n",
       "      <td>9780002261982</td>\n",
       "      <td>0002261987</td>\n",
       "      <td>Spider's Web</td>\n",
       "      <td>A Novel</td>\n",
       "      <td>Charles Osborne;Agatha Christie</td>\n",
       "      <td>Detective and mystery stories</td>\n",
       "      <td>http://books.google.com/books/content?id=gA5GP...</td>\n",
       "      <td>A new 'Christie for Christmas' -- a full-lengt...</td>\n",
       "      <td>2000.0</td>\n",
       "      <td>3.83</td>\n",
       "      <td>241.0</td>\n",
       "      <td>5164.0</td>\n",
       "    </tr>\n",
       "    <tr>\n",
       "      <th>2</th>\n",
       "      <td>9780006163831</td>\n",
       "      <td>0006163831</td>\n",
       "      <td>The One Tree</td>\n",
       "      <td>NaN</td>\n",
       "      <td>Stephen R. Donaldson</td>\n",
       "      <td>American fiction</td>\n",
       "      <td>http://books.google.com/books/content?id=OmQaw...</td>\n",
       "      <td>Volume Two of Stephen Donaldson's acclaimed se...</td>\n",
       "      <td>1982.0</td>\n",
       "      <td>3.97</td>\n",
       "      <td>479.0</td>\n",
       "      <td>172.0</td>\n",
       "    </tr>\n",
       "    <tr>\n",
       "      <th>3</th>\n",
       "      <td>9780006178736</td>\n",
       "      <td>0006178731</td>\n",
       "      <td>Rage of angels</td>\n",
       "      <td>NaN</td>\n",
       "      <td>Sidney Sheldon</td>\n",
       "      <td>Fiction</td>\n",
       "      <td>http://books.google.com/books/content?id=FKo2T...</td>\n",
       "      <td>A memorable, mesmerizing heroine Jennifer -- b...</td>\n",
       "      <td>1993.0</td>\n",
       "      <td>3.93</td>\n",
       "      <td>512.0</td>\n",
       "      <td>29532.0</td>\n",
       "    </tr>\n",
       "    <tr>\n",
       "      <th>4</th>\n",
       "      <td>9780006280897</td>\n",
       "      <td>0006280897</td>\n",
       "      <td>The Four Loves</td>\n",
       "      <td>NaN</td>\n",
       "      <td>Clive Staples Lewis</td>\n",
       "      <td>Christian life</td>\n",
       "      <td>http://books.google.com/books/content?id=XhQ5X...</td>\n",
       "      <td>Lewis' work on the nature of love divides love...</td>\n",
       "      <td>2002.0</td>\n",
       "      <td>4.15</td>\n",
       "      <td>170.0</td>\n",
       "      <td>33684.0</td>\n",
       "    </tr>\n",
       "    <tr>\n",
       "      <th>5</th>\n",
       "      <td>9780006280934</td>\n",
       "      <td>0006280935</td>\n",
       "      <td>The Problem of Pain</td>\n",
       "      <td>NaN</td>\n",
       "      <td>Clive Staples Lewis</td>\n",
       "      <td>Christian life</td>\n",
       "      <td>http://books.google.com/books/content?id=Kk-uV...</td>\n",
       "      <td>\"In The Problem of Pain, C.S. Lewis, one of th...</td>\n",
       "      <td>2002.0</td>\n",
       "      <td>4.09</td>\n",
       "      <td>176.0</td>\n",
       "      <td>37569.0</td>\n",
       "    </tr>\n",
       "    <tr>\n",
       "      <th>6</th>\n",
       "      <td>9780006353287</td>\n",
       "      <td>0006353282</td>\n",
       "      <td>An Autobiography</td>\n",
       "      <td>NaN</td>\n",
       "      <td>Agatha Christie</td>\n",
       "      <td>Authors, English</td>\n",
       "      <td>http://books.google.com/books/content?id=c49GQ...</td>\n",
       "      <td>Donation.</td>\n",
       "      <td>1977.0</td>\n",
       "      <td>4.27</td>\n",
       "      <td>560.0</td>\n",
       "      <td>3975.0</td>\n",
       "    </tr>\n",
       "    <tr>\n",
       "      <th>7</th>\n",
       "      <td>9780006380832</td>\n",
       "      <td>0006380832</td>\n",
       "      <td>Empires of the Monsoon</td>\n",
       "      <td>A History of the Indian Ocean and Its Invaders</td>\n",
       "      <td>Richard Hall</td>\n",
       "      <td>Africa, East</td>\n",
       "      <td>http://books.google.com/books/content?id=MuPEQ...</td>\n",
       "      <td>Until Vasco da Gama discovered the sea-route t...</td>\n",
       "      <td>1998.0</td>\n",
       "      <td>4.41</td>\n",
       "      <td>608.0</td>\n",
       "      <td>65.0</td>\n",
       "    </tr>\n",
       "    <tr>\n",
       "      <th>8</th>\n",
       "      <td>9780006470229</td>\n",
       "      <td>000647022X</td>\n",
       "      <td>The Gap Into Madness</td>\n",
       "      <td>Chaos and Order</td>\n",
       "      <td>Stephen R. Donaldson</td>\n",
       "      <td>Hyland, Morn (Fictitious character)</td>\n",
       "      <td>http://books.google.com/books/content?id=4oXav...</td>\n",
       "      <td>A new-cover reissue of the fourth book in the ...</td>\n",
       "      <td>1994.0</td>\n",
       "      <td>4.15</td>\n",
       "      <td>743.0</td>\n",
       "      <td>103.0</td>\n",
       "    </tr>\n",
       "    <tr>\n",
       "      <th>9</th>\n",
       "      <td>9780006472612</td>\n",
       "      <td>0006472613</td>\n",
       "      <td>Master of the Game</td>\n",
       "      <td>NaN</td>\n",
       "      <td>Sidney Sheldon</td>\n",
       "      <td>Adventure stories</td>\n",
       "      <td>http://books.google.com/books/content?id=TkTYp...</td>\n",
       "      <td>Kate Blackwell is an enigma and one of the mos...</td>\n",
       "      <td>1982.0</td>\n",
       "      <td>4.11</td>\n",
       "      <td>489.0</td>\n",
       "      <td>43540.0</td>\n",
       "    </tr>\n",
       "  </tbody>\n",
       "</table>\n",
       "</div>"
      ],
      "text/plain": [
       "          isbn13      isbn10                   title  \\\n",
       "0  9780002005883  0002005883                  Gilead   \n",
       "1  9780002261982  0002261987            Spider's Web   \n",
       "2  9780006163831  0006163831            The One Tree   \n",
       "3  9780006178736  0006178731          Rage of angels   \n",
       "4  9780006280897  0006280897          The Four Loves   \n",
       "5  9780006280934  0006280935     The Problem of Pain   \n",
       "6  9780006353287  0006353282        An Autobiography   \n",
       "7  9780006380832  0006380832  Empires of the Monsoon   \n",
       "8  9780006470229  000647022X    The Gap Into Madness   \n",
       "9  9780006472612  0006472613      Master of the Game   \n",
       "\n",
       "                                         subtitle  \\\n",
       "0                                             NaN   \n",
       "1                                         A Novel   \n",
       "2                                             NaN   \n",
       "3                                             NaN   \n",
       "4                                             NaN   \n",
       "5                                             NaN   \n",
       "6                                             NaN   \n",
       "7  A History of the Indian Ocean and Its Invaders   \n",
       "8                                 Chaos and Order   \n",
       "9                                             NaN   \n",
       "\n",
       "                           authors                           categories  \\\n",
       "0               Marilynne Robinson                              Fiction   \n",
       "1  Charles Osborne;Agatha Christie        Detective and mystery stories   \n",
       "2             Stephen R. Donaldson                     American fiction   \n",
       "3                   Sidney Sheldon                              Fiction   \n",
       "4              Clive Staples Lewis                       Christian life   \n",
       "5              Clive Staples Lewis                       Christian life   \n",
       "6                  Agatha Christie                     Authors, English   \n",
       "7                     Richard Hall                         Africa, East   \n",
       "8             Stephen R. Donaldson  Hyland, Morn (Fictitious character)   \n",
       "9                   Sidney Sheldon                    Adventure stories   \n",
       "\n",
       "                                           thumbnail  \\\n",
       "0  http://books.google.com/books/content?id=KQZCP...   \n",
       "1  http://books.google.com/books/content?id=gA5GP...   \n",
       "2  http://books.google.com/books/content?id=OmQaw...   \n",
       "3  http://books.google.com/books/content?id=FKo2T...   \n",
       "4  http://books.google.com/books/content?id=XhQ5X...   \n",
       "5  http://books.google.com/books/content?id=Kk-uV...   \n",
       "6  http://books.google.com/books/content?id=c49GQ...   \n",
       "7  http://books.google.com/books/content?id=MuPEQ...   \n",
       "8  http://books.google.com/books/content?id=4oXav...   \n",
       "9  http://books.google.com/books/content?id=TkTYp...   \n",
       "\n",
       "                                         description  published_year  \\\n",
       "0  A NOVEL THAT READERS and critics have been eag...          2004.0   \n",
       "1  A new 'Christie for Christmas' -- a full-lengt...          2000.0   \n",
       "2  Volume Two of Stephen Donaldson's acclaimed se...          1982.0   \n",
       "3  A memorable, mesmerizing heroine Jennifer -- b...          1993.0   \n",
       "4  Lewis' work on the nature of love divides love...          2002.0   \n",
       "5  \"In The Problem of Pain, C.S. Lewis, one of th...          2002.0   \n",
       "6                                          Donation.          1977.0   \n",
       "7  Until Vasco da Gama discovered the sea-route t...          1998.0   \n",
       "8  A new-cover reissue of the fourth book in the ...          1994.0   \n",
       "9  Kate Blackwell is an enigma and one of the mos...          1982.0   \n",
       "\n",
       "   average_rating  num_pages  ratings_count  \n",
       "0            3.85      247.0          361.0  \n",
       "1            3.83      241.0         5164.0  \n",
       "2            3.97      479.0          172.0  \n",
       "3            3.93      512.0        29532.0  \n",
       "4            4.15      170.0        33684.0  \n",
       "5            4.09      176.0        37569.0  \n",
       "6            4.27      560.0         3975.0  \n",
       "7            4.41      608.0           65.0  \n",
       "8            4.15      743.0          103.0  \n",
       "9            4.11      489.0        43540.0  "
      ]
     },
     "execution_count": 4,
     "metadata": {},
     "output_type": "execute_result"
    }
   ],
   "source": [
    "df.head(10)"
   ]
  },
  {
   "cell_type": "code",
   "execution_count": 14,
   "id": "1298e26f-5693-4fd3-8ed4-3bb80d985a28",
   "metadata": {},
   "outputs": [
    {
     "data": {
      "text/plain": [
       "Index(['title', 'authors', 'categories', 'thumbnail', 'description',\n",
       "       'average_rating', 'ratings_count'],\n",
       "      dtype='object')"
      ]
     },
     "execution_count": 14,
     "metadata": {},
     "output_type": "execute_result"
    }
   ],
   "source": [
    "df.columns"
   ]
  },
  {
   "cell_type": "code",
   "execution_count": 18,
   "id": "4e905752-4d87-4f46-a92d-705deb277f21",
   "metadata": {},
   "outputs": [
    {
     "data": {
      "text/plain": [
       "title               0\n",
       "authors            72\n",
       "categories         99\n",
       "thumbnail         329\n",
       "description       262\n",
       "average_rating     43\n",
       "ratings_count      43\n",
       "dtype: int64"
      ]
     },
     "execution_count": 18,
     "metadata": {},
     "output_type": "execute_result"
    }
   ],
   "source": [
    "df.isnull().sum()\n"
   ]
  },
  {
   "cell_type": "code",
   "execution_count": 19,
   "id": "eeeea46d-86a4-457d-a38a-9761c3c2f64a",
   "metadata": {},
   "outputs": [
    {
     "name": "stdout",
     "output_type": "stream",
     "text": [
      "title               0\n",
      "authors            71\n",
      "categories          0\n",
      "thumbnail         271\n",
      "description       194\n",
      "average_rating      0\n",
      "ratings_count       0\n",
      "dtype: int64\n"
     ]
    }
   ],
   "source": [
    "# Drop rows with nulls in specific columns\n",
    "df = df.dropna(subset=['categories', 'average_rating', 'ratings_count'])\n",
    "\n",
    "# Verify the updated DataFrame\n",
    "print(df.isnull().sum())  # Check null counts again\n"
   ]
  },
  {
   "cell_type": "code",
   "execution_count": 24,
   "id": "4433314c-e0e2-4377-9b14-b66599772082",
   "metadata": {},
   "outputs": [],
   "source": [
    "df = df.reset_index(drop=True)\n"
   ]
  },
  {
   "cell_type": "code",
   "execution_count": 25,
   "id": "790aa6cf-ef57-48e1-a316-e0e51893dde4",
   "metadata": {},
   "outputs": [
    {
     "name": "stdout",
     "output_type": "stream",
     "text": [
      "(6671, 7)\n"
     ]
    }
   ],
   "source": [
    "print(df.shape)          "
   ]
  },
  {
   "cell_type": "code",
   "execution_count": 44,
   "id": "086ff289-9d3c-412f-a88d-7b3a7ca64510",
   "metadata": {},
   "outputs": [
    {
     "name": "stdout",
     "output_type": "stream",
     "text": [
      "                                               title        categories  \\\n",
      "0                                       The One Tree  American fiction   \n",
      "1                            A Prayer for Owen Meany  American fiction   \n",
      "2                              Assassin's Apprentice  American fiction   \n",
      "3                                           Survivor  American fiction   \n",
      "4                                  Bagombo Snuff Box  American fiction   \n",
      "5                                          The Hours  American fiction   \n",
      "6  Three Famous Short Novels: short novels, Spott...  American fiction   \n",
      "7                                    American Psycho  American fiction   \n",
      "8                            They Do it with Mirrors  American fiction   \n",
      "9                                       Crime Novels  American fiction   \n",
      "\n",
      "  ratings_count average_rating  \n",
      "0         172.0           3.97  \n",
      "1      246360.0           4.23  \n",
      "2      133972.0           4.15  \n",
      "3       49342.0           3.92  \n",
      "4        7849.0           3.72  \n",
      "5        1533.0           3.93  \n",
      "6        1433.0           3.86  \n",
      "7         835.0           3.82  \n",
      "8         415.0           3.75  \n",
      "9         414.0           4.36  \n"
     ]
    }
   ],
   "source": [
    "def recommend_books(title, df):\n",
    "    # Check if the title exists in the dataset\n",
    "    if title not in df['title'].values:\n",
    "        return f\"Book with title '{title}' not found in the dataset.\"\n",
    "    \n",
    "    # Get the category of the input book\n",
    "    book_category = df.loc[df['title'] == title, 'categories'].iloc[0]\n",
    "    \n",
    "    # Filter books with the same category\n",
    "    same_category_books = df[df['categories'] == book_category]\n",
    "    \n",
    "    # Sort by ratings_count (descending) and then by average_rating (descending)\n",
    "    sorted_books = same_category_books.sort_values(\n",
    "        by=['ratings_count', 'average_rating'], ascending=[False, False]\n",
    "    )\n",
    "\n",
    "    \n",
    "    # Get the top 10 books, including the input book\n",
    "    input_book = df[df['title'] == title].iloc[0]\n",
    "    top_books = sorted_books.head(9)\n",
    "    top_books = pd.concat([ input_book.to_frame().T , top_books], ignore_index=True)\n",
    "    \n",
    "    return top_books\n",
    "\n",
    "# Example Usage\n",
    "recommendations = recommend_books('The One Tree', df)\n",
    "print(recommendations[['title', 'categories', 'ratings_count', 'average_rating']])\n",
    "\n"
   ]
  },
  {
   "cell_type": "code",
   "execution_count": 32,
   "id": "a79b27bf-8150-4c81-bc55-bc666456989c",
   "metadata": {},
   "outputs": [
    {
     "data": {
      "text/plain": [
       "False"
      ]
     },
     "execution_count": 32,
     "metadata": {},
     "output_type": "execute_result"
    }
   ],
   "source": [
    "'pride and prejudice' in df['title'].values"
   ]
  },
  {
   "cell_type": "code",
   "execution_count": null,
   "id": "c8ecabdb-3d9c-45b1-8962-b28a23b1bd7c",
   "metadata": {},
   "outputs": [],
   "source": []
  }
 ],
 "metadata": {
  "kernelspec": {
   "display_name": "Python 3 (ipykernel)",
   "language": "python",
   "name": "python3"
  },
  "language_info": {
   "codemirror_mode": {
    "name": "ipython",
    "version": 3
   },
   "file_extension": ".py",
   "mimetype": "text/x-python",
   "name": "python",
   "nbconvert_exporter": "python",
   "pygments_lexer": "ipython3",
   "version": "3.11.7"
  }
 },
 "nbformat": 4,
 "nbformat_minor": 5
}
